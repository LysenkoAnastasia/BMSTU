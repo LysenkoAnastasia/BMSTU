{
 "cells": [
  {
   "cell_type": "markdown",
   "metadata": {
    "collapsed": true
   },
   "source": [
    "## Параметры"
   ]
  },
  {
   "cell_type": "code",
   "execution_count": 300,
   "metadata": {
    "collapsed": true
   },
   "outputs": [],
   "source": [
    "import copy\n",
    "import random"
   ]
  },
  {
   "cell_type": "code",
   "execution_count": 301,
   "metadata": {
    "collapsed": true
   },
   "outputs": [],
   "source": [
    "ITERATIONS = 50\n",
    "POPULATION_SIZE = 200"
   ]
  },
  {
   "cell_type": "markdown",
   "metadata": {},
   "source": [
    "### Начальная особь - \"Стеарат натрия\"\n",
    "###### SMILES:  CCCCCCCCCCCCCCCCCC(=O)[O-].[Na+]"
   ]
  },
  {
   "cell_type": "code",
   "execution_count": 302,
   "metadata": {
    "collapsed": true
   },
   "outputs": [],
   "source": [
    "# Спросить про правильность переовода в smiles - NaC18H35O2\n",
    "base_individual = ['C','C','C','C','C','C','C','C','C','C','C','C','C','C','C','C','C','C(=O)[O-].[Na+]']"
   ]
  },
  {
   "cell_type": "markdown",
   "metadata": {},
   "source": [
    "### Нужно получить - \"Лаурилсульфат натрия\"\n",
    "###### SMILES:  CCCCCCCCCCCCOS(=O)([O-])=O.[Na+]"
   ]
  },
  {
   "cell_type": "code",
   "execution_count": 303,
   "metadata": {
    "collapsed": false
   },
   "outputs": [],
   "source": [
    "# Спросить про правильность переовода в smiles - C12H25 [SO4NA]\n",
    "goal_individual = ['C','C','C','C','C','C','C','C','C','C','C','C','O','C','C','OS(=O)([O-])=O.[Na+]']"
   ]
  },
  {
   "cell_type": "code",
   "execution_count": 304,
   "metadata": {
    "collapsed": true
   },
   "outputs": [],
   "source": [
    "rating = {\n",
    "    'OS(=O)([O-])=O.[Na+]': 38.7, # -SO4Na\n",
    "    'C(=O)[O-].[K+]': 21.1,       # -COOK (правильное значение rating? или поменять местами с нижним)\n",
    "    'C(=O)[O-].[Na+]': 19.1,      # -COONa\n",
    "    'N': 9.4,                  # \n",
    "    'C(=O)[O-]': 2.1,             # -COOH\n",
    "    'O': 1.9,                     # -OH\n",
    "    'C': 0.5\n",
    "}"
   ]
  },
  {
   "cell_type": "code",
   "execution_count": 305,
   "metadata": {
    "collapsed": true
   },
   "outputs": [],
   "source": [
    "head_elements = ['OS(=O)([O-])=O.[Na+]', 'C(=O)[O-].[K+]', 'C(=O)[O-].[Na+]', 'C(=O)[O-]']\n",
    "body_elements = ['N', 'C', 'O']\n",
    "tail_elements = ['C']"
   ]
  },
  {
   "cell_type": "code",
   "execution_count": 306,
   "metadata": {
    "collapsed": false
   },
   "outputs": [],
   "source": [
    "def mutate(old_individual, max_mutation_count=3):\n",
    "    new_individual = copy.deepcopy(old_individual)\n",
    "    mutations_count = random.randint(1, max_mutation_count)\n",
    "\n",
    "    positions = []\n",
    "    for i in range(mutations_count):\n",
    "        positions.append(random.choice([0, len(new_individual)-1, random.randint(1, len(new_individual)-2)]))\n",
    "    mutation_variants = [0, 1]\n",
    "    \n",
    "    for pos in positions:\n",
    "#         print('before: {0}'.format(new_individual))\n",
    "        if pos == 0:\n",
    "            elem = random.choice(tail_elements)\n",
    "            new_individual[pos] = elem\n",
    "        elif pos == len(new_individual) - 1:\n",
    "            elem = random.choice(head_elements)\n",
    "            new_individual[pos] = elem\n",
    "        else:\n",
    "            mutation_vartiant = random.choice(mutation_variants)\n",
    "            elem = random.choice(body_elements)\n",
    "#             print('variant: {0}'.format(mutation_vartiant))\n",
    "#             if mutation_vartiant == 0:\n",
    "                \n",
    "#                 new_individual[pos] = elem\n",
    "#             else:\n",
    "            new_individual.insert(pos, elem)\n",
    "#         print('after: {0}'.format(new_individual))\n",
    "    return new_individual         "
   ]
  },
  {
   "cell_type": "code",
   "execution_count": 307,
   "metadata": {
    "collapsed": false
   },
   "outputs": [],
   "source": [
    "# mutate(base_individual)"
   ]
  },
  {
   "cell_type": "code",
   "execution_count": 308,
   "metadata": {
    "collapsed": false
   },
   "outputs": [
    {
     "data": {
      "text/plain": [
       "47.6"
      ]
     },
     "execution_count": 308,
     "metadata": {},
     "output_type": "execute_result"
    }
   ],
   "source": [
    "def score(individual):\n",
    "    return sum([rating[elem] for elem in individual])\n",
    "\n",
    "goal_score = score(goal_individual)\n",
    "\n",
    "def delta_glb(individual):\n",
    "    ind_score = score(individual)\n",
    "    return abs(goal_score - ind_score)\n",
    "\n",
    "def sort_by_score(population):\n",
    "    res = []\n",
    "    for individual in population:\n",
    "        cond1 = individual[0] in tail_elements\n",
    "        cond2 = individual[len(individual) - 1] in head_elements\n",
    "        # cond3 =  # is poison?\n",
    "        if cond1 and cond2:\n",
    "            res.append((individual, score(individual), delta_glb(individual)))\n",
    "        res = sorted(res, key=lambda el: el[2])\n",
    "    return list(map(lambda individual: individual[0], res))[:POPULATION_SIZE]\n",
    "\n",
    "def ind_to_str(individual):\n",
    "    res = ''\n",
    "    for el in individual:\n",
    "        res += el\n",
    "    return res\n",
    "\n",
    "goal_score"
   ]
  },
  {
   "cell_type": "code",
   "execution_count": 309,
   "metadata": {
    "collapsed": true
   },
   "outputs": [],
   "source": [
    "def cross(individual_one, individual_two):\n",
    "    new_individual_one = copy.deepcopy(individual_one)\n",
    "    new_individual_two = copy.deepcopy(individual_two)\n",
    "\n",
    "    pos1 = random.randint(1, len(individual_one) - 2)\n",
    "    pos2 = random.randint(1, len(individual_two) - 2)\n",
    "    \n",
    "    buf = new_individual_one[pos1]\n",
    "    new_individual_one[pos1] = new_individual_two[pos2]\n",
    "    new_individual_two[pos2] = buf\n",
    "    \n",
    "    return new_individual_one, new_individual_two\n",
    " \n",
    "\n",
    "def get_random_interval(individual):\n",
    "    N = len(individual)\n",
    "    start_pos = random.randint(1, N - 1)\n",
    "    finish_pos = random.randint(1, N - 1)\n",
    "    \n",
    "    if start_pos > finish_pos:\n",
    "        temp = start_pos\n",
    "        start_pos = finish_pos\n",
    "        finish_pos = temp\n",
    "    elif start_pos == finish_pos:\n",
    "        if finish_pos == N-1:\n",
    "            start_pos -= 1\n",
    "        else:\n",
    "            finish_pos += 1\n",
    "        \n",
    "    return start_pos, finish_pos\n",
    "\n",
    "    \n",
    "def cross1(individual_one, individual_two):\n",
    "    new_individual_one = copy.deepcopy(individual_one)\n",
    "    new_individual_two = copy.deepcopy(individual_two)\n",
    "    \n",
    "#     start_pos1 = random.randint(1, len(individual_one) - 2)\n",
    "#     finish_pos1 = random.randint(1, len(individual_one) - 2) - start_pos1\n",
    "    start_pos1, finish_pos1 = get_random_interval(individual_one)\n",
    "#     print('1) [{0}:{1}]'.format(start_pos1, finish_pos1))\n",
    "#     print(individual_one[start_pos1:finish_pos1]) \n",
    "\n",
    "    start_pos2, finish_pos2 = get_random_interval(individual_two)\n",
    "#     print('2) [{0}:{1}]'.format(start_pos2, finish_pos2))\n",
    "#     print(individual_two[start_pos2:finish_pos2]) \n",
    "\n",
    "\n",
    "    buf = new_individual_one[start_pos1:finish_pos1]\n",
    "    new_individual_one = new_individual_one[:start_pos1] + new_individual_two[start_pos2:finish_pos2] + new_individual_one[finish_pos1:]\n",
    "    new_individual_two = new_individual_two[:start_pos2] + buf + new_individual_two[finish_pos2:]\n",
    "    \n",
    "    return new_individual_one, new_individual_two\n",
    " "
   ]
  },
  {
   "cell_type": "code",
   "execution_count": 310,
   "metadata": {
    "collapsed": false
   },
   "outputs": [
    {
     "name": "stdout",
     "output_type": "stream",
     "text": [
      "A1B2E1F1\n",
      "A2B1C1D1C2D2E2F2\n"
     ]
    }
   ],
   "source": [
    "ind1 = ['A1', 'B1', 'C1', 'D1', 'E1', 'F1']\n",
    "ind2 = ['A2', 'B2', 'C2', 'D2', 'E2', 'F2']\n",
    "for pop in cross1(ind1, ind2):\n",
    "    print(ind_to_str(pop))"
   ]
  },
  {
   "cell_type": "code",
   "execution_count": 311,
   "metadata": {
    "collapsed": false
   },
   "outputs": [
    {
     "data": {
      "text/plain": [
       "['D1', 'E1']"
      ]
     },
     "execution_count": 311,
     "metadata": {},
     "output_type": "execute_result"
    }
   ],
   "source": [
    "ind1[3:5]"
   ]
  },
  {
   "cell_type": "code",
   "execution_count": 312,
   "metadata": {
    "collapsed": false
   },
   "outputs": [
    {
     "data": {
      "text/plain": [
       "(['A1', 'B1', 'C1'], ['D1', 'E1'], ['F1'])"
      ]
     },
     "execution_count": 312,
     "metadata": {},
     "output_type": "execute_result"
    }
   ],
   "source": [
    "ind1[:3], ind1[3:5], ind1[5:]"
   ]
  },
  {
   "cell_type": "code",
   "execution_count": 313,
   "metadata": {
    "collapsed": false
   },
   "outputs": [
    {
     "data": {
      "text/plain": [
       "(['A2'], ['B2', 'C2'], ['D2', 'E2', 'F2'])"
      ]
     },
     "execution_count": 313,
     "metadata": {},
     "output_type": "execute_result"
    }
   ],
   "source": [
    "ind2[:1], ind2[1:3], ind2[3:]"
   ]
  },
  {
   "cell_type": "code",
   "execution_count": 314,
   "metadata": {
    "collapsed": true
   },
   "outputs": [],
   "source": [
    "def generate(population):\n",
    "    next_gen = []\n",
    "    for individual in population:\n",
    "        child1 = mutate(individual)\n",
    "        child2, child3 = cross1(individual, child1)\n",
    "        next_gen.extend([individual, child1, child2, child3])\n",
    "    return copy.deepcopy(next_gen)"
   ]
  },
  {
   "cell_type": "code",
   "execution_count": 315,
   "metadata": {
    "collapsed": false
   },
   "outputs": [
    {
     "data": {
      "text/plain": [
       "'CCCCCCCCCCCCCCCCCC(=O)[O-].[Na+]'"
      ]
     },
     "execution_count": 315,
     "metadata": {},
     "output_type": "execute_result"
    }
   ],
   "source": [
    "def run_ga(population):\n",
    "    new_population = population\n",
    "    for i in range(ITERATIONS):\n",
    "        new_population = generate(new_population)\n",
    "#         for pop in new_population:\n",
    "#             print(ind_to_str(pop))\n",
    "        new_population = sort_by_score(new_population)\n",
    "    return new_population\n",
    "ind_to_str(base_individual)"
   ]
  },
  {
   "cell_type": "code",
   "execution_count": 316,
   "metadata": {
    "collapsed": false
   },
   "outputs": [
    {
     "name": "stdout",
     "output_type": "stream",
     "text": [
      "[0] CCCCCCCCCCCCOCCOS(=O)([O-])=O.[Na+]\n",
      "Score:\t\t47.6\n",
      "[1] CCCOCCCCCCCCCCCOS(=O)([O-])=O.[Na+]\n",
      "Score:\t\t47.6\n",
      "[2] CCCOCCCCCCCCCCCOS(=O)([O-])=O.[Na+]\n",
      "Score:\t\t47.6\n",
      "[3] CCCOCCCCCCCCCCCOS(=O)([O-])=O.[Na+]\n",
      "Score:\t\t47.6\n",
      "[4] CCCOCCCCCCCCCCCOS(=O)([O-])=O.[Na+]\n",
      "Score:\t\t47.6\n",
      "[5] CCCOCCCCCCCCCCCOS(=O)([O-])=O.[Na+]\n",
      "Score:\t\t47.6\n",
      "[6] CCCOCCCCCCCCCCCOS(=O)([O-])=O.[Na+]\n",
      "Score:\t\t47.6\n",
      "[7] CCCOCCCCCCCCCCCOS(=O)([O-])=O.[Na+]\n",
      "Score:\t\t47.6\n",
      "[8] CCCOCCCCCCCCCCCOS(=O)([O-])=O.[Na+]\n",
      "Score:\t\t47.6\n",
      "[9] CCCOCCCCCCCCCCCOS(=O)([O-])=O.[Na+]\n",
      "Score:\t\t47.6\n",
      "[10] CCCOCCCCCCCCCCCOS(=O)([O-])=O.[Na+]\n",
      "Score:\t\t47.6\n"
     ]
    }
   ],
   "source": [
    "k = 0\n",
    "print('[{0}] {1}'.format(k, ind_to_str(goal_individual)))\n",
    "print('Score:\\t\\t{0}'.format(goal_score))\n",
    "for individual in run_ga([base_individual])[:10]:\n",
    "    k+=1\n",
    "    print('[{0}] {1}'.format(k, ind_to_str(individual)))\n",
    "    print('Score:\\t\\t{0}'.format(score(individual)))"
   ]
  },
  {
   "cell_type": "code",
   "execution_count": null,
   "metadata": {
    "collapsed": false
   },
   "outputs": [],
   "source": []
  },
  {
   "cell_type": "code",
   "execution_count": null,
   "metadata": {
    "collapsed": false
   },
   "outputs": [],
   "source": []
  },
  {
   "cell_type": "code",
   "execution_count": null,
   "metadata": {
    "collapsed": false
   },
   "outputs": [],
   "source": []
  },
  {
   "cell_type": "code",
   "execution_count": null,
   "metadata": {
    "collapsed": false
   },
   "outputs": [],
   "source": []
  },
  {
   "cell_type": "code",
   "execution_count": null,
   "metadata": {
    "collapsed": false
   },
   "outputs": [],
   "source": []
  },
  {
   "cell_type": "code",
   "execution_count": null,
   "metadata": {
    "collapsed": false
   },
   "outputs": [],
   "source": []
  },
  {
   "cell_type": "code",
   "execution_count": null,
   "metadata": {
    "collapsed": false
   },
   "outputs": [],
   "source": []
  },
  {
   "cell_type": "code",
   "execution_count": null,
   "metadata": {
    "collapsed": false
   },
   "outputs": [],
   "source": []
  },
  {
   "cell_type": "code",
   "execution_count": null,
   "metadata": {
    "collapsed": true
   },
   "outputs": [],
   "source": []
  }
 ],
 "metadata": {
  "anaconda-cloud": {},
  "kernelspec": {
   "display_name": "Python [default]",
   "language": "python",
   "name": "python3"
  },
  "language_info": {
   "codemirror_mode": {
    "name": "ipython",
    "version": 3
   },
   "file_extension": ".py",
   "mimetype": "text/x-python",
   "name": "python",
   "nbconvert_exporter": "python",
   "pygments_lexer": "ipython3",
   "version": "3.5.2"
  }
 },
 "nbformat": 4,
 "nbformat_minor": 1
}
